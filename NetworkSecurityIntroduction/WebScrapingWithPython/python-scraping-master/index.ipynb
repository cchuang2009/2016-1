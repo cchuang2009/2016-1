{
 "cells": [
  {
   "cell_type": "markdown",
   "metadata": {},
   "source": [
    "1. [Chapter-1.-Your-First-Web-Scraper](chapter1/chapter1.ipynb)\n",
    "- [Chapter-2.-Advanced-HTML-Parsing](chapter2/chapter2.ipynb)\n",
    "- [Chapter-3.-Starting-to-Crawl](chapter3/chapter3.ipynb)\n",
    "- [Chapter-5.-Storing-Data](chapter5/chapter5.ipynb)\n",
    "- [Chapter-6.-Reading-Documents](chapter6/chapter6.ipynb#) python install [PDFMiner3K](https://github.com/jaepil/pdfminer3k)\n",
    "- [Chapter-9. Crawling-Through-Forms-and-Logins](chapter9/chapter9.ipynb)\n",
    "- [Chapter-11.-Image-Processing-and-Text-Recognition](chapter11/chapter11.ipynb), install [leptonica>=1.71](http://www.leptonica.com/download.html), it requires to find staff of image library, such as libpng, jpeg etc; therefore configure right for them installed, for instance: \n",
    "\n",
    "```shell\n",
    " ./configure LDFLAGS=-L/usr/local/lib CPPFLAGS=-I/Users/cch/anaconda/include/\n",
    "\n",
    "```\n",
    "\n",
    "and make links if necessary:\n",
    "\n",
    "```shell \n",
    "su-shell >  ln -s /Users/cch/anaconda/lib/libpng* /ur/local/lib/\n",
    "su-shell >  ln -s /Users/cch/anaconda/lib/libjpeg* /ur/local/lib/\n",
    "su-shell >  ln -s /Users/cch/anaconda/lib/libtiff* /ur/local/lib/\n",
    "```\n",
    "\n",
    "After installated sucessfully it can be ckeck whether they were included and work well by \n",
    "\n",
    "```shell\n",
    "shell > tesseract -v\n",
    "tesseract 3.05.00dev\n",
    " leptonica-1.73\n",
    "  libjpeg 8d : libpng 1.6.17 : libtiff 4.0.6 : zlib 1.2.8\n",
    "```\n",
    "<font color=\"brown\">jpeg, png tiff, libz</font> were found and installed. Now install the oct software,\n",
    "[tesseract-ocr](http://tesseract-ocr.googlecode.com/svn/trunk/ tesseract-ocr) if warning about <font color=\"red\">pango</font> and <font color=\"red\">cairo</font> in configure step:\n",
    "```\n",
    "./configure: line 17832: syntax error near unexpected token 'pango,'\n",
    "./configure: line 17832: 'PKG_CHECK_MODULES(pango, pango, have_pango=true,have_pango=false)'\n",
    "...\n",
    "```\n",
    " comment out related lines ( lines, 17165 and 17184 in my Mac box) in configure file:\n",
    "```\n",
    "#PKG_CHECK_MODULES(pango, pango, have_pango=true, have_pango=false)\n",
    "...\n",
    "#PKG_CHECK_MODULES(cairo, cairo, have_cairo=true, have_cairo=false)\n",
    "```\n",
    "- [Chapter-12.-Avoiding-Scraping-Traps](chapter12/chapter12.ipynb)\n",
    "- [Chapter-13.-Testing-Your-Website-with-Scrapers](chapter13/chapter13.ipynb)\n",
    "- [Chapter-14.-Scraping-Remotely](chapter14/Untitled.ipynb)"
   ]
  },
  {
   "cell_type": "code",
   "execution_count": null,
   "metadata": {
    "collapsed": true
   },
   "outputs": [],
   "source": []
  }
 ],
 "metadata": {
  "hide_input": false,
  "kernelspec": {
   "display_name": "Python 3",
   "language": "python",
   "name": "python3"
  },
  "language_info": {
   "codemirror_mode": {
    "name": "ipython",
    "version": 3
   },
   "file_extension": ".py",
   "mimetype": "text/x-python",
   "name": "python",
   "nbconvert_exporter": "python",
   "pygments_lexer": "ipython3",
   "version": "3.8.5"
  }
 },
 "nbformat": 4,
 "nbformat_minor": 1
}
